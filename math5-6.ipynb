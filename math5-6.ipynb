{
 "cells": [
  {
   "cell_type": "markdown",
   "metadata": {},
   "source": [
    "# Введение в высшую математику\n",
    "## Практическое задание №5\n",
    "\n",
    "5.1.\n",
    "Вектор – это частный случай матрицы 1хN и Nх1. Повторите материал для векторов, уделяя особое внимание умножению A∙B.\n",
    "Вычислите, по возможности не используя программирование: $(5\\cdotЕ)^{–1}$, где $Е$ – единичная матрица размера 5х5"
   ]
  },
  {
   "cell_type": "markdown",
   "metadata": {},
   "source": [
    "$$\n",
    "5\\cdot\\begin{pmatrix}\n",
    "1 & 0 & 0 & 0 & 0 \\\\\n",
    "0 & 1 & 0 & 0 & 0 \\\\\n",
    "0 & 0 & 1 & 0 & 0 \\\\\n",
    "0 & 0 & 0 & 1 & 0 \\\\\n",
    "0 & 0 & 0 & 0 & 1 \n",
    "\\end{pmatrix}^{-1}=\\begin{pmatrix}\n",
    "5 & 0 & 0 & 0 & 0 \\\\\n",
    "0 & 5 & 0 & 0 & 0 \\\\\n",
    "0 & 0 & 5 & 0 & 0 \\\\\n",
    "0 & 0 & 0 & 5 & 0 \\\\\n",
    "0 & 0 & 0 & 0 & 5 \n",
    "\\end{pmatrix}^{T}_{*}=\\\\\\frac{1}{5^{5}}\\cdot\n",
    "\\begin{pmatrix}\n",
    "(-1)^{1+1}\\cdot\\begin{vmatrix}\n",
    "5 & 0 & 0 & 0 \\\\\n",
    "0 & 5 & 0 & 0 \\\\\n",
    "0 & 0 & 5 & 0 \\\\\n",
    "0 & 0 & 0 & 5 \n",
    "\\end{vmatrix} & 0 & 0 & 0 & 0 \\\\\n",
    "0 & (-1)^{2+2}\\cdot\\begin{vmatrix}\n",
    "5 & 0 & 0 & 0 \\\\\n",
    "0 & 5 & 0 & 0 \\\\\n",
    "0 & 0 & 5 & 0 \\\\\n",
    "0 & 0 & 0 & 5 \n",
    "\\end{vmatrix} & 0 & 0 & 0 \\\\\n",
    "0 & 0 & (-1)^{3+3}\\cdot\\begin{vmatrix}\n",
    "5 & 0 & 0 & 0 \\\\\n",
    "0 & 5 & 0 & 0 \\\\\n",
    "0 & 0 & 5 & 0 \\\\\n",
    "0 & 0 & 0 & 5 \n",
    "\\end{vmatrix} & 0 & 0 \\\\\n",
    "0 & 0 & 0 & (-1)^{4+4}\\cdot\\begin{vmatrix}\n",
    "5 & 0 & 0 & 0 \\\\\n",
    "0 & 5 & 0 & 0 \\\\\n",
    "0 & 0 & 5 & 0 \\\\\n",
    "0 & 0 & 0 & 5 \n",
    "\\end{vmatrix}\\\\\n",
    "0 & 0 & 0 & 0 &(-1)^{5+5}\\cdot\\begin{vmatrix}\n",
    "5 & 0 & 0 & 0 \\\\\n",
    "0 & 5 & 0 & 0 \\\\\n",
    "0 & 0 & 5 & 0 \\\\\n",
    "0 & 0 & 0 & 5 \n",
    "\\end{vmatrix}\n",
    "\\end{pmatrix}=\n",
    "\\frac{1}{5^{5}}\\cdot \n",
    "\\begin{pmatrix}\n",
    "5^4 & 0 & 0 & 0 & 0\\\\\n",
    "0 & 5^4 & 0 & 0 & 0\\\\\n",
    "0 & 0 & 5^4 & 0 & 0\\\\\n",
    "0 & 0 & 0 & 5^4 & 0\\\\\n",
    "0 & 0 & 0 &  0  & 5^4\n",
    "\\end{pmatrix}=\n",
    "\\begin{pmatrix}\n",
    "0.2 & 0 & 0 & 0 & 0\\\\\n",
    "0 & 0.2 & 0 & 0 & 0\\\\\n",
    "0 & 0 & 0.2 & 0 & 0\\\\\n",
    "0 & 0 & 0 & 0.2 & 0\\\\\n",
    "0 & 0 & 0 &  0  & 0.2\n",
    "\\end{pmatrix}\n",
    "$$"
   ]
  },
  {
   "cell_type": "markdown",
   "metadata": {},
   "source": [
    "5.2.\n",
    "Вычислите определитель:\n",
    "\n",
    "$$\n",
    "\\begin{vmatrix}\n",
    "1 & 2 & 3 \\\\\n",
    "4 & 0 & 6 \\\\\n",
    "7 & 8 & 9 \\\\\n",
    "\\end{vmatrix}=1\\cdot\\left(-1\\right)^{1+1}\\cdot\\left(0\\cdot9-6\\cdot8\\right)+2\\cdot\\left(-1\\right)^{1+2}\\cdot\\left(4\\cdot9-6\\cdot7\\right)+3\\cdot\\left(-1\\right)^{1+3}\\cdot\\left(4\\cdot8-0\\cdot7\\right)=-48-2\\cdot\\left(36-42\\right)+96=60\n",
    "$$\n",
    " \n"
   ]
  },
  {
   "cell_type": "markdown",
   "metadata": {},
   "source": [
    "5.3. \n",
    "1. Вычислите матрицу, обратную данной:\n",
    "$$\n",
    "\\begin{pmatrix}\n",
    "1 & 2 & 3 \\\\\n",
    "4 & 0 & 6 \\\\\n",
    "7 & 8 & 9 \\\\\n",
    "\\end{pmatrix}^{-1}=\\frac{1}{\\begin{vmatrix}\n",
    "1 & 2 & 3 \\\\\n",
    "4 & 0 & 6 \\\\\n",
    "7 & 8 & 9 \\\\\n",
    "\\end{vmatrix}}\\cdot\\begin{pmatrix}\n",
    "1 & 2 & 3 \\\\\n",
    "4 & 0 & 6 \\\\\n",
    "7 & 8 & 9 \\\\\n",
    "\\end{pmatrix}^T_*=\\frac{1}{60}\\cdot\\begin{pmatrix}\n",
    "\\left(-1\\right)^{1+1}\\cdot\\left(0\\cdot9-6\\cdot8\\right) & \\left(-1\\right)^{1+2}\\cdot\\left(4\\cdot9-6\\cdot7\\right) & \\left(-1\\right)^{1+3}\\cdot\\left(4\\cdot8-0\\cdot7\\right) \\\\\n",
    "\\left(-1\\right)^{2+1}\\cdot\\left(2\\cdot9-3\\cdot8\\right) & \\left(-1\\right)^{2+2}\\cdot\\left(1\\cdot9-3\\cdot7\\right) & \\left(-1\\right)^{2+3}\\cdot\\left(1\\cdot8-2\\cdot7\\right) \\\\\n",
    "\\left(-1\\right)^{3+1}\\cdot\\left(2\\cdot6-0\\cdot3\\right) & \\left(-1\\right)^{3+2}\\cdot\\left(1\\cdot6-4\\cdot3\\right) & \\left(-1\\right)^{3+3}\\cdot\\left(1\\cdot0-4\\cdot2\\right) \\\\\n",
    "\\end{pmatrix}^T\\\\\n",
    "=\\frac{1}{60}\\cdot\\begin{pmatrix}\n",
    "-48 & 6 & 12 \\\\\n",
    "6 & -12 & 6 \\\\\n",
    "32 & 6 & -8 \\\\\n",
    "\\end{pmatrix}=\\begin{pmatrix}\n",
    "-0.8 & 0.1 & 0.2 \\\\\n",
    "0.1 & -0.2 & 0.1 \\\\\n",
    "\\frac{8}{15} & 0.1 & -\\frac{4}{15} \\\\\n",
    "\\end{pmatrix}\n",
    "$$"
   ]
  },
  {
   "cell_type": "markdown",
   "metadata": {},
   "source": [
    "2. Приведите пример матрицы 4х4, ранг которой равен 1.\n",
    "$$\n",
    "\\begin{pmatrix}\n",
    "1 & 2 & 3 & 4\\\\\n",
    "2 & 4 & 6 & 8\\\\\n",
    "4 & 8 & 12 & 16\\\\\n",
    "5 & 10 & 15 & 20\\\\\n",
    "\\end{pmatrix}\n",
    "$$"
   ]
  },
  {
   "cell_type": "markdown",
   "metadata": {},
   "source": [
    "5.4.\n",
    "Вычислите скалярное произведение двух векторов:  \n",
    "$\n",
    "(1, 5)\\quadи\\quad(2, 8)\\\\\n",
    "\\begin{pmatrix}\n",
    "1 \\\\ 5 \\end{pmatrix}\n",
    "\\cdot\n",
    "\\begin{pmatrix}\n",
    "2 \\\\ 8 \\end{pmatrix}=1\\cdot2+5\\cdot8=42\n",
    "$"
   ]
  },
  {
   "cell_type": "markdown",
   "metadata": {},
   "source": [
    "5.5\n",
    "Вычислите смешанное произведение трех векторов:\n",
    "$$\n",
    "(1, 5, 0),\\quad (2, 8, 7)\\quadи\\quad(7, 1.5, 3)\\\\\n",
    "\\left(\\begin{pmatrix}\n",
    "1 \\\\ 5 \\\\ 0 \\\\\n",
    "\\end{pmatrix}\\times\n",
    "\\begin{pmatrix}\n",
    "2 \\\\ 8 \\\\ 7 \\\\\n",
    "\\end{pmatrix}\n",
    "\\right)\\cdot\n",
    "\\begin{pmatrix}\n",
    "7 \\\\ 1.5 \\\\ 3 \\\\\n",
    "\\end{pmatrix}=\n",
    "\\begin{pmatrix}\n",
    "5\\cdot7-0\\cdot8 \\\\ (-1)\\cdot1\\cdot7-2\\cdot0 \\\\ 1\\cdot8-2\\cdot5\n",
    "\\end{pmatrix}\\cdot\n",
    "\\begin{pmatrix}\n",
    "7 \\\\ 1.5 \\\\ 3 \\\\\n",
    "\\end{pmatrix}=\n",
    "\\begin{pmatrix}\n",
    "35 \\\\ -7 \\\\ -2\n",
    "\\end{pmatrix}\\cdot\n",
    "\\begin{pmatrix}\n",
    "7 \\\\ 1.5 \\\\ 3 \\\\\n",
    "\\end{pmatrix}=35\\cdot7-7\\cdot1.5-2\\cdot3=228.5\n",
    "$$\n"
   ]
  },
  {
   "cell_type": "markdown",
   "metadata": {},
   "source": [
    "## Практическое задание №6\n",
    "\n",
    "\n",
    "1. Решите линейную систему:\n",
    "$$\n",
    "\\begin{pmatrix}\n",
    "1 & 2 & 3 \\\\\n",
    "4 & 0 & 6 \\\\\n",
    "7 & 8 & 9 \\\\\n",
    "\\end{pmatrix}\\cdot X=\n",
    "\\begin{pmatrix}\n",
    "2 \\\\ 5 \\\\ 1\n",
    "\\end{pmatrix}\n",
    "$$"
   ]
  },
  {
   "cell_type": "code",
   "execution_count": 1,
   "metadata": {},
   "outputs": [
    {
     "data": {
      "text/plain": [
       "array([[-0.9       ],\n",
       "       [-0.7       ],\n",
       "       [ 1.43333333]])"
      ]
     },
     "execution_count": 1,
     "metadata": {},
     "output_type": "execute_result"
    }
   ],
   "source": [
    "import numpy as np\n",
    "A = np.array([[1, 2, 3], [4, 0, 6], [7, 8, 9]])\n",
    "B = np.array([[2, 5, 1]])\n",
    "np.linalg.solve(A, B.T)"
   ]
  },
  {
   "cell_type": "markdown",
   "metadata": {},
   "source": [
    "2. Найдите псевдорешение:\n",
    "$$ \\left\\{ \\begin{aligned}\n",
    "x + 2y – z = 1 \\\\\n",
    "3x – 4y = 7 \\\\\n",
    "8x – 5y + 2z = 12 \\\\\n",
    "2x – 5z = 7 \\\\ \n",
    "11x +4y – 7z = 15 \\end{aligned} \\right.\n",
    "$$"
   ]
  },
  {
   "cell_type": "code",
   "execution_count": 2,
   "metadata": {},
   "outputs": [
    {
     "data": {
      "text/plain": [
       "(array([[ 1.13919353],\n",
       "        [-0.90498444],\n",
       "        [-0.9009803 ]]),\n",
       " array([0.71523211]),\n",
       " 3,\n",
       " array([15.2817306 ,  9.59852942,  3.65197794]))"
      ]
     },
     "execution_count": 2,
     "metadata": {},
     "output_type": "execute_result"
    }
   ],
   "source": [
    "A = np.array([[1, 2, -1], [3, -4, 0], [8, -5, 2], [2, 0, -5], [11, 4, -7]])\n",
    "B = np.array([[1, 7, 12, 7, 15]])\n",
    "np.linalg.lstsq(A, B.T, rcond=None)"
   ]
  },
  {
   "cell_type": "markdown",
   "metadata": {},
   "source": [
    "3. Сколько решений имеет линейная система:\n",
    "$$\n",
    "\\begin{pmatrix}\n",
    "1 & 2 & 3 \\\\\n",
    "4 & 5 & 6 \\\\\n",
    "7 & 8 & 9 \\\\\n",
    "\\end{pmatrix}\\cdot X=\n",
    "\\begin{pmatrix}\n",
    "12 \\\\ 2 \\\\ 1\n",
    "\\end{pmatrix}\n",
    "$$\n",
    "Если ноль – то измените вектор правой части так, чтобы система стала совместной, и решите ее. "
   ]
  },
  {
   "cell_type": "code",
   "execution_count": 4,
   "metadata": {},
   "outputs": [
    {
     "data": {
      "text/plain": [
       "-9.51619735392994e-16"
      ]
     },
     "execution_count": 4,
     "metadata": {},
     "output_type": "execute_result"
    }
   ],
   "source": [
    "A = np.array([[1, 2, 3], [4, 5, 6], [7, 8, 9]])\n",
    "np.linalg.det(A)"
   ]
  },
  {
   "cell_type": "code",
   "execution_count": 6,
   "metadata": {},
   "outputs": [
    {
     "name": "stdout",
     "output_type": "stream",
     "text": [
      "[[ 1  2  3 12]\n",
      " [ 4  5  6  2]\n",
      " [ 7  8  9  1]]\n"
     ]
    },
    {
     "data": {
      "text/plain": [
       "(2, 3)"
      ]
     },
     "execution_count": 6,
     "metadata": {},
     "output_type": "execute_result"
    }
   ],
   "source": [
    "B = np.array([[12, 2, 1]])\n",
    "C = np.concatenate((A,B.T), axis=1)\n",
    "print (C)\n",
    "np.linalg.matrix_rank(A, 0.0001), np.linalg.matrix_rank(C, 0.0001)"
   ]
  },
  {
   "cell_type": "markdown",
   "metadata": {},
   "source": [
    "определитель матрицы A равен 0, ранг матрица А меньше ранга матрица С, значит система несовместна."
   ]
  },
  {
   "cell_type": "code",
   "execution_count": 7,
   "metadata": {},
   "outputs": [
    {
     "name": "stdout",
     "output_type": "stream",
     "text": [
      "[[1 2 3 3]\n",
      " [4 5 6 2]\n",
      " [7 8 9 1]]\n"
     ]
    },
    {
     "data": {
      "text/plain": [
       "(2, 2)"
      ]
     },
     "execution_count": 7,
     "metadata": {},
     "output_type": "execute_result"
    }
   ],
   "source": [
    "B = np.array([[3, 2, 1]])\n",
    "C = np.concatenate((A,B.T), axis=1)\n",
    "print (C)\n",
    "np.linalg.matrix_rank(A, 0.0001), np.linalg.matrix_rank(C, 0.0001)"
   ]
  },
  {
   "cell_type": "code",
   "execution_count": 8,
   "metadata": {},
   "outputs": [
    {
     "data": {
      "text/plain": [
       "(array([[-1.94444444],\n",
       "        [-0.11111111],\n",
       "        [ 1.72222222]]),\n",
       " array([], dtype=float64),\n",
       " 2,\n",
       " array([1.68481034e+01, 1.06836951e+00, 3.33475287e-16]))"
      ]
     },
     "execution_count": 8,
     "metadata": {},
     "output_type": "execute_result"
    }
   ],
   "source": [
    "np.linalg.lstsq(A, B.T, rcond=None)"
   ]
  },
  {
   "cell_type": "markdown",
   "metadata": {},
   "source": [
    "4. Вычислите LU-разложение матрицы:\n",
    "$$\n",
    "\\begin{pmatrix}\n",
    "1 & 2 & 3 \\\\\n",
    "2 & 16 & 21 \\\\\n",
    "4 & 28 & 73 \\\\\n",
    "\\end{pmatrix}\n",
    "$$\n",
    " \n",
    "После этого придумайте вектор правых частей и решите полученную линейную систему трех уравнений \n",
    "с данной матрицей.\n"
   ]
  },
  {
   "cell_type": "code",
   "execution_count": 9,
   "metadata": {},
   "outputs": [
    {
     "name": "stdout",
     "output_type": "stream",
     "text": [
      "[[0. 1. 0.]\n",
      " [0. 0. 1.]\n",
      " [1. 0. 0.]]\n",
      "[[ 1.    0.    0.  ]\n",
      " [ 0.25  1.    0.  ]\n",
      " [ 0.5  -0.4   1.  ]]\n",
      "[[  4.    28.    73.  ]\n",
      " [  0.    -5.   -15.25]\n",
      " [  0.     0.   -21.6 ]]\n"
     ]
    }
   ],
   "source": [
    "import scipy.linalg as scl\n",
    "\n",
    "A = np.array([ [1, 2, 3], [2, 16, 21], [4, 28, 73] ])\n",
    "P, L, U = scl.lu(A)\n",
    "\n",
    "print(P)\n",
    "print(L)\n",
    "print(U)\n"
   ]
  },
  {
   "cell_type": "code",
   "execution_count": 10,
   "metadata": {},
   "outputs": [
    {
     "data": {
      "text/plain": [
       "array([[ 5.12962963],\n",
       "       [-0.67592593],\n",
       "       [ 0.07407407]])"
      ]
     },
     "execution_count": 10,
     "metadata": {},
     "output_type": "execute_result"
    }
   ],
   "source": [
    "B = np.array([[4, 1, 7]])\n",
    "np.linalg.solve(A, B.T)"
   ]
  },
  {
   "cell_type": "markdown",
   "metadata": {},
   "source": [
    "5. Найдите нормальное псевдорешение недоопределенной системы:\n",
    "$$\\left\\{\\begin{aligned}\n",
    "x + 2y – z = 1 \\\\\n",
    "8x – 5y + 2z = 12 \\\\  \\end{aligned} \\right.\n",
    "$$\n",
    "Для этого определите функцию $ Q(x,y,z) $ , равную норме решения, и найдите ее минимум. \n"
   ]
  },
  {
   "cell_type": "code",
   "execution_count": 11,
   "metadata": {},
   "outputs": [
    {
     "data": {
      "text/plain": [
       "(array([[ 1.38191882],\n",
       "        [-0.18081181],\n",
       "        [ 0.0202952 ]]),\n",
       " array([], dtype=float64),\n",
       " 2,\n",
       " array([9.65316119, 2.41173777]))"
      ]
     },
     "execution_count": 11,
     "metadata": {},
     "output_type": "execute_result"
    }
   ],
   "source": [
    "A = np.array([[1, 2, -1], [8, -5, 2]])\n",
    "B = np.array([[1, 12]])\n",
    "np.linalg.lstsq(A, B.T, rcond=None)"
   ]
  },
  {
   "cell_type": "code",
   "execution_count": 12,
   "metadata": {},
   "outputs": [
    {
     "data": {
      "image/png": "[encoded data removed]",
      "text/plain": [
       "<Figure size 432x288 with 1 Axes>"
      ]
     },
     "metadata": {
      "needs_background": "light"
     },
     "output_type": "display_data"
    }
   ],
   "source": [
    "%matplotlib inline\n",
    "import matplotlib.pyplot as plt\n",
    "\n",
    "def Q(x, y, z):\n",
    "    return (x**2 + y**2 + z**2)\n",
    "\n",
    "x = np.linspace(1, 1.75, 201)\n",
    "y = 10*x - 14\n",
    "plt.plot(x, Q(x, y, x+2*y-1))\n",
    "plt.xlabel('x')\n",
    "plt.ylabel('Q')\n",
    "plt.grid(True)\n",
    "plt.show()"
   ]
  },
  {
   "cell_type": "markdown",
   "metadata": {},
   "source": [
    "6. Найдите одно из псевдорешений вырожденной системы:\n",
    "$$\n",
    "\\begin{pmatrix}\n",
    "1 & 2 & 3 \\\\\n",
    "4 & 5 & 6 \\\\\n",
    "7 & 8 & 9 \\\\\n",
    "\\end{pmatrix}\\cdot X=\n",
    "\\begin{pmatrix}\n",
    "2 \\\\ 5 \\\\ 11\n",
    "\\end{pmatrix}\n",
    "$$   \n",
    "Попробуйте также отыскать и нормальное псевдорешение.\n"
   ]
  },
  {
   "cell_type": "code",
   "execution_count": 13,
   "metadata": {},
   "outputs": [
    {
     "data": {
      "text/plain": [
       "(array([[ 1.25],\n",
       "        [ 0.5 ],\n",
       "        [-0.25]]),\n",
       " array([], dtype=float64),\n",
       " 2,\n",
       " array([1.68481034e+01, 1.06836951e+00, 3.33475287e-16]))"
      ]
     },
     "execution_count": 13,
     "metadata": {},
     "output_type": "execute_result"
    }
   ],
   "source": [
    "A = np.array([[1, 2, 3], [4, 5, 6], [7, 8, 9] ])\n",
    "B = np.array([[2, 5, 11]])\n",
    "np.linalg.lstsq(A, B.T, rcond=None)"
   ]
  },
  {
   "cell_type": "code",
   "execution_count": null,
   "metadata": {},
   "outputs": [],
   "source": []
  }
 ],
 "metadata": {
  "kernelspec": {
   "display_name": "Python 3",
   "language": "python",
   "name": "python3"
  },
  "language_info": {
   "codemirror_mode": {
    "name": "ipython",
    "version": 3
   },
   "file_extension": ".py",
   "mimetype": "text/x-python",
   "name": "python",
   "nbconvert_exporter": "python",
   "pygments_lexer": "ipython3",
   "version": "3.7.0"
  }
 },
 "nbformat": 4,
 "nbformat_minor": 2
}
